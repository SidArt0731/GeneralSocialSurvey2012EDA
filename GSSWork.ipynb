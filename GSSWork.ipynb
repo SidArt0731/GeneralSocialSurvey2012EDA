{
 "cells": [
  {
   "cell_type": "markdown",
   "id": "d715eb3f-2c46-4e0d-b6ba-33f4061e48aa",
   "metadata": {
    "tags": []
   },
   "source": [
    "# An Exploratory Data Analysis of General Social Survey stata file 2012"
   ]
  },
  {
   "cell_type": "markdown",
   "id": "521a4674-baf5-4679-9abe-73f1ffb339ab",
   "metadata": {},
   "source": [
    "### Loading the data"
   ]
  },
  {
   "cell_type": "code",
   "execution_count": 1,
   "id": "7e759b72-2d68-4610-a308-00d6ef84dfbb",
   "metadata": {},
   "outputs": [],
   "source": [
    "import pandas as pd\n",
    "import numpy as np\n",
    "%matplotlib inline\n",
    "import matplotlib.pyplot as plt"
   ]
  },
  {
   "cell_type": "code",
   "execution_count": null,
   "id": "ec4d8a37-9dbd-42e5-8c99-0ba67dbf1f61",
   "metadata": {},
   "outputs": [],
   "source": []
  },
  {
   "cell_type": "code",
   "execution_count": 2,
   "id": "f2685143-0b76-4d84-a637-8da6d31c99be",
   "metadata": {},
   "outputs": [
    {
     "data": {
      "text/html": [
       "<div>\n",
       "<style scoped>\n",
       "    .dataframe tbody tr th:only-of-type {\n",
       "        vertical-align: middle;\n",
       "    }\n",
       "\n",
       "    .dataframe tbody tr th {\n",
       "        vertical-align: top;\n",
       "    }\n",
       "\n",
       "    .dataframe thead th {\n",
       "        text-align: right;\n",
       "    }\n",
       "</style>\n",
       "<table border=\"1\" class=\"dataframe\">\n",
       "  <thead>\n",
       "    <tr style=\"text-align: right;\">\n",
       "      <th></th>\n",
       "      <th>year</th>\n",
       "      <th>id</th>\n",
       "      <th>wrkstat</th>\n",
       "      <th>hrs1</th>\n",
       "      <th>hrs2</th>\n",
       "      <th>evwork</th>\n",
       "      <th>wrkslf</th>\n",
       "      <th>wrkgovt</th>\n",
       "      <th>occ10</th>\n",
       "      <th>indus10</th>\n",
       "      <th>...</th>\n",
       "      <th>getmar</th>\n",
       "      <th>getmar1</th>\n",
       "      <th>hapornot</th>\n",
       "      <th>grnsign</th>\n",
       "      <th>grnmoney</th>\n",
       "      <th>grndemo</th>\n",
       "      <th>grncon</th>\n",
       "      <th>finan4</th>\n",
       "      <th>enprbus</th>\n",
       "      <th>enprbfam</th>\n",
       "    </tr>\n",
       "  </thead>\n",
       "  <tbody>\n",
       "    <tr>\n",
       "      <th>0</th>\n",
       "      <td>2012</td>\n",
       "      <td>1</td>\n",
       "      <td>2.0</td>\n",
       "      <td>15.0</td>\n",
       "      <td>NaN</td>\n",
       "      <td>NaN</td>\n",
       "      <td>2.0</td>\n",
       "      <td>2.0</td>\n",
       "      <td>4800.0</td>\n",
       "      <td>7470.0</td>\n",
       "      <td>...</td>\n",
       "      <td>NaN</td>\n",
       "      <td>NaN</td>\n",
       "      <td>NaN</td>\n",
       "      <td>NaN</td>\n",
       "      <td>NaN</td>\n",
       "      <td>NaN</td>\n",
       "      <td>NaN</td>\n",
       "      <td>NaN</td>\n",
       "      <td>NaN</td>\n",
       "      <td>NaN</td>\n",
       "    </tr>\n",
       "    <tr>\n",
       "      <th>1</th>\n",
       "      <td>2012</td>\n",
       "      <td>2</td>\n",
       "      <td>2.0</td>\n",
       "      <td>30.0</td>\n",
       "      <td>NaN</td>\n",
       "      <td>NaN</td>\n",
       "      <td>2.0</td>\n",
       "      <td>2.0</td>\n",
       "      <td>2900.0</td>\n",
       "      <td>770.0</td>\n",
       "      <td>...</td>\n",
       "      <td>NaN</td>\n",
       "      <td>NaN</td>\n",
       "      <td>NaN</td>\n",
       "      <td>NaN</td>\n",
       "      <td>NaN</td>\n",
       "      <td>NaN</td>\n",
       "      <td>NaN</td>\n",
       "      <td>NaN</td>\n",
       "      <td>NaN</td>\n",
       "      <td>NaN</td>\n",
       "    </tr>\n",
       "    <tr>\n",
       "      <th>2</th>\n",
       "      <td>2012</td>\n",
       "      <td>3</td>\n",
       "      <td>1.0</td>\n",
       "      <td>60.0</td>\n",
       "      <td>NaN</td>\n",
       "      <td>NaN</td>\n",
       "      <td>2.0</td>\n",
       "      <td>2.0</td>\n",
       "      <td>1320.0</td>\n",
       "      <td>6070.0</td>\n",
       "      <td>...</td>\n",
       "      <td>NaN</td>\n",
       "      <td>NaN</td>\n",
       "      <td>NaN</td>\n",
       "      <td>NaN</td>\n",
       "      <td>NaN</td>\n",
       "      <td>NaN</td>\n",
       "      <td>NaN</td>\n",
       "      <td>NaN</td>\n",
       "      <td>NaN</td>\n",
       "      <td>NaN</td>\n",
       "    </tr>\n",
       "    <tr>\n",
       "      <th>3</th>\n",
       "      <td>2012</td>\n",
       "      <td>4</td>\n",
       "      <td>8.0</td>\n",
       "      <td>NaN</td>\n",
       "      <td>NaN</td>\n",
       "      <td>1.0</td>\n",
       "      <td>2.0</td>\n",
       "      <td>2.0</td>\n",
       "      <td>800.0</td>\n",
       "      <td>6990.0</td>\n",
       "      <td>...</td>\n",
       "      <td>NaN</td>\n",
       "      <td>NaN</td>\n",
       "      <td>NaN</td>\n",
       "      <td>NaN</td>\n",
       "      <td>NaN</td>\n",
       "      <td>NaN</td>\n",
       "      <td>NaN</td>\n",
       "      <td>NaN</td>\n",
       "      <td>NaN</td>\n",
       "      <td>NaN</td>\n",
       "    </tr>\n",
       "    <tr>\n",
       "      <th>4</th>\n",
       "      <td>2012</td>\n",
       "      <td>5</td>\n",
       "      <td>5.0</td>\n",
       "      <td>NaN</td>\n",
       "      <td>NaN</td>\n",
       "      <td>1.0</td>\n",
       "      <td>2.0</td>\n",
       "      <td>1.0</td>\n",
       "      <td>3800.0</td>\n",
       "      <td>9470.0</td>\n",
       "      <td>...</td>\n",
       "      <td>NaN</td>\n",
       "      <td>NaN</td>\n",
       "      <td>NaN</td>\n",
       "      <td>NaN</td>\n",
       "      <td>NaN</td>\n",
       "      <td>NaN</td>\n",
       "      <td>NaN</td>\n",
       "      <td>NaN</td>\n",
       "      <td>NaN</td>\n",
       "      <td>NaN</td>\n",
       "    </tr>\n",
       "  </tbody>\n",
       "</table>\n",
       "<p>5 rows × 1069 columns</p>\n",
       "</div>"
      ],
      "text/plain": [
       "   year  id  wrkstat  hrs1  hrs2  evwork  wrkslf  wrkgovt   occ10  indus10  \\\n",
       "0  2012   1      2.0  15.0   NaN     NaN     2.0      2.0  4800.0   7470.0   \n",
       "1  2012   2      2.0  30.0   NaN     NaN     2.0      2.0  2900.0    770.0   \n",
       "2  2012   3      1.0  60.0   NaN     NaN     2.0      2.0  1320.0   6070.0   \n",
       "3  2012   4      8.0   NaN   NaN     1.0     2.0      2.0   800.0   6990.0   \n",
       "4  2012   5      5.0   NaN   NaN     1.0     2.0      1.0  3800.0   9470.0   \n",
       "\n",
       "   ...  getmar  getmar1  hapornot  grnsign  grnmoney  grndemo  grncon  finan4  \\\n",
       "0  ...     NaN      NaN       NaN      NaN       NaN      NaN     NaN     NaN   \n",
       "1  ...     NaN      NaN       NaN      NaN       NaN      NaN     NaN     NaN   \n",
       "2  ...     NaN      NaN       NaN      NaN       NaN      NaN     NaN     NaN   \n",
       "3  ...     NaN      NaN       NaN      NaN       NaN      NaN     NaN     NaN   \n",
       "4  ...     NaN      NaN       NaN      NaN       NaN      NaN     NaN     NaN   \n",
       "\n",
       "   enprbus  enprbfam  \n",
       "0      NaN       NaN  \n",
       "1      NaN       NaN  \n",
       "2      NaN       NaN  \n",
       "3      NaN       NaN  \n",
       "4      NaN       NaN  \n",
       "\n",
       "[5 rows x 1069 columns]"
      ]
     },
     "execution_count": 2,
     "metadata": {},
     "output_type": "execute_result"
    }
   ],
   "source": [
    "gss_data = pd.read_stata('data/GSS2012merged_R5.dta', convert_categoricals=False )\n",
    "\n",
    "gss_data.head()"
   ]
  },
  {
   "cell_type": "markdown",
   "id": "17aa47c2-d18b-41a4-bdfb-be8bdb1c97de",
   "metadata": {},
   "source": [
    "### Setting index as the 'id' col"
   ]
  },
  {
   "cell_type": "code",
   "execution_count": 3,
   "id": "7588e404-0180-466d-b9d3-621d19c3ef76",
   "metadata": {},
   "outputs": [
    {
     "name": "stderr",
     "output_type": "stream",
     "text": [
      "C:\\Users\\Abc\\AppData\\Local\\Temp/ipykernel_1868/2128407622.py:2: FutureWarning: In a future version of pandas all arguments of DataFrame.drop except for the argument 'labels' will be keyword-only\n",
      "  gss_data.drop('id',1,inplace=True)\n"
     ]
    },
    {
     "data": {
      "text/html": [
       "<div>\n",
       "<style scoped>\n",
       "    .dataframe tbody tr th:only-of-type {\n",
       "        vertical-align: middle;\n",
       "    }\n",
       "\n",
       "    .dataframe tbody tr th {\n",
       "        vertical-align: top;\n",
       "    }\n",
       "\n",
       "    .dataframe thead th {\n",
       "        text-align: right;\n",
       "    }\n",
       "</style>\n",
       "<table border=\"1\" class=\"dataframe\">\n",
       "  <thead>\n",
       "    <tr style=\"text-align: right;\">\n",
       "      <th></th>\n",
       "      <th>year</th>\n",
       "      <th>wrkstat</th>\n",
       "      <th>hrs1</th>\n",
       "      <th>hrs2</th>\n",
       "      <th>evwork</th>\n",
       "      <th>wrkslf</th>\n",
       "      <th>wrkgovt</th>\n",
       "      <th>occ10</th>\n",
       "      <th>indus10</th>\n",
       "      <th>marital</th>\n",
       "      <th>...</th>\n",
       "      <th>getmar</th>\n",
       "      <th>getmar1</th>\n",
       "      <th>hapornot</th>\n",
       "      <th>grnsign</th>\n",
       "      <th>grnmoney</th>\n",
       "      <th>grndemo</th>\n",
       "      <th>grncon</th>\n",
       "      <th>finan4</th>\n",
       "      <th>enprbus</th>\n",
       "      <th>enprbfam</th>\n",
       "    </tr>\n",
       "  </thead>\n",
       "  <tbody>\n",
       "    <tr>\n",
       "      <th>0</th>\n",
       "      <td>2012</td>\n",
       "      <td>2.0</td>\n",
       "      <td>15.0</td>\n",
       "      <td>NaN</td>\n",
       "      <td>NaN</td>\n",
       "      <td>2.0</td>\n",
       "      <td>2.0</td>\n",
       "      <td>4800.0</td>\n",
       "      <td>7470.0</td>\n",
       "      <td>5.0</td>\n",
       "      <td>...</td>\n",
       "      <td>NaN</td>\n",
       "      <td>NaN</td>\n",
       "      <td>NaN</td>\n",
       "      <td>NaN</td>\n",
       "      <td>NaN</td>\n",
       "      <td>NaN</td>\n",
       "      <td>NaN</td>\n",
       "      <td>NaN</td>\n",
       "      <td>NaN</td>\n",
       "      <td>NaN</td>\n",
       "    </tr>\n",
       "    <tr>\n",
       "      <th>1</th>\n",
       "      <td>2012</td>\n",
       "      <td>2.0</td>\n",
       "      <td>30.0</td>\n",
       "      <td>NaN</td>\n",
       "      <td>NaN</td>\n",
       "      <td>2.0</td>\n",
       "      <td>2.0</td>\n",
       "      <td>2900.0</td>\n",
       "      <td>770.0</td>\n",
       "      <td>5.0</td>\n",
       "      <td>...</td>\n",
       "      <td>NaN</td>\n",
       "      <td>NaN</td>\n",
       "      <td>NaN</td>\n",
       "      <td>NaN</td>\n",
       "      <td>NaN</td>\n",
       "      <td>NaN</td>\n",
       "      <td>NaN</td>\n",
       "      <td>NaN</td>\n",
       "      <td>NaN</td>\n",
       "      <td>NaN</td>\n",
       "    </tr>\n",
       "    <tr>\n",
       "      <th>2</th>\n",
       "      <td>2012</td>\n",
       "      <td>1.0</td>\n",
       "      <td>60.0</td>\n",
       "      <td>NaN</td>\n",
       "      <td>NaN</td>\n",
       "      <td>2.0</td>\n",
       "      <td>2.0</td>\n",
       "      <td>1320.0</td>\n",
       "      <td>6070.0</td>\n",
       "      <td>1.0</td>\n",
       "      <td>...</td>\n",
       "      <td>NaN</td>\n",
       "      <td>NaN</td>\n",
       "      <td>NaN</td>\n",
       "      <td>NaN</td>\n",
       "      <td>NaN</td>\n",
       "      <td>NaN</td>\n",
       "      <td>NaN</td>\n",
       "      <td>NaN</td>\n",
       "      <td>NaN</td>\n",
       "      <td>NaN</td>\n",
       "    </tr>\n",
       "    <tr>\n",
       "      <th>3</th>\n",
       "      <td>2012</td>\n",
       "      <td>8.0</td>\n",
       "      <td>NaN</td>\n",
       "      <td>NaN</td>\n",
       "      <td>1.0</td>\n",
       "      <td>2.0</td>\n",
       "      <td>2.0</td>\n",
       "      <td>800.0</td>\n",
       "      <td>6990.0</td>\n",
       "      <td>1.0</td>\n",
       "      <td>...</td>\n",
       "      <td>NaN</td>\n",
       "      <td>NaN</td>\n",
       "      <td>NaN</td>\n",
       "      <td>NaN</td>\n",
       "      <td>NaN</td>\n",
       "      <td>NaN</td>\n",
       "      <td>NaN</td>\n",
       "      <td>NaN</td>\n",
       "      <td>NaN</td>\n",
       "      <td>NaN</td>\n",
       "    </tr>\n",
       "    <tr>\n",
       "      <th>4</th>\n",
       "      <td>2012</td>\n",
       "      <td>5.0</td>\n",
       "      <td>NaN</td>\n",
       "      <td>NaN</td>\n",
       "      <td>1.0</td>\n",
       "      <td>2.0</td>\n",
       "      <td>1.0</td>\n",
       "      <td>3800.0</td>\n",
       "      <td>9470.0</td>\n",
       "      <td>4.0</td>\n",
       "      <td>...</td>\n",
       "      <td>NaN</td>\n",
       "      <td>NaN</td>\n",
       "      <td>NaN</td>\n",
       "      <td>NaN</td>\n",
       "      <td>NaN</td>\n",
       "      <td>NaN</td>\n",
       "      <td>NaN</td>\n",
       "      <td>NaN</td>\n",
       "      <td>NaN</td>\n",
       "      <td>NaN</td>\n",
       "    </tr>\n",
       "  </tbody>\n",
       "</table>\n",
       "<p>5 rows × 1068 columns</p>\n",
       "</div>"
      ],
      "text/plain": [
       "   year  wrkstat  hrs1  hrs2  evwork  wrkslf  wrkgovt   occ10  indus10  \\\n",
       "0  2012      2.0  15.0   NaN     NaN     2.0      2.0  4800.0   7470.0   \n",
       "1  2012      2.0  30.0   NaN     NaN     2.0      2.0  2900.0    770.0   \n",
       "2  2012      1.0  60.0   NaN     NaN     2.0      2.0  1320.0   6070.0   \n",
       "3  2012      8.0   NaN   NaN     1.0     2.0      2.0   800.0   6990.0   \n",
       "4  2012      5.0   NaN   NaN     1.0     2.0      1.0  3800.0   9470.0   \n",
       "\n",
       "   marital  ...  getmar  getmar1  hapornot  grnsign  grnmoney  grndemo  \\\n",
       "0      5.0  ...     NaN      NaN       NaN      NaN       NaN      NaN   \n",
       "1      5.0  ...     NaN      NaN       NaN      NaN       NaN      NaN   \n",
       "2      1.0  ...     NaN      NaN       NaN      NaN       NaN      NaN   \n",
       "3      1.0  ...     NaN      NaN       NaN      NaN       NaN      NaN   \n",
       "4      4.0  ...     NaN      NaN       NaN      NaN       NaN      NaN   \n",
       "\n",
       "   grncon  finan4  enprbus  enprbfam  \n",
       "0     NaN     NaN      NaN       NaN  \n",
       "1     NaN     NaN      NaN       NaN  \n",
       "2     NaN     NaN      NaN       NaN  \n",
       "3     NaN     NaN      NaN       NaN  \n",
       "4     NaN     NaN      NaN       NaN  \n",
       "\n",
       "[5 rows x 1068 columns]"
      ]
     },
     "execution_count": 3,
     "metadata": {},
     "output_type": "execute_result"
    }
   ],
   "source": [
    "gss_data.set_index('id')\n",
    "gss_data.drop('id',1,inplace=True)\n",
    "gss_data.head()"
   ]
  },
  {
   "cell_type": "markdown",
   "id": "bc63be31-1a12-4910-8bea-4d03396bd497",
   "metadata": {},
   "source": [
    "### Saving file as csv for faster loading later"
   ]
  },
  {
   "cell_type": "code",
   "execution_count": 4,
   "id": "f42f4774-44eb-4c73-b02f-906394dfdee7",
   "metadata": {},
   "outputs": [],
   "source": [
    "gss_data.to_csv('GSS2012Work.csv')"
   ]
  },
  {
   "cell_type": "markdown",
   "id": "b10a7f2f-a67f-4598-aed6-1d0de4e9cff8",
   "metadata": {},
   "source": [
    "### Distribution of data"
   ]
  },
  {
   "cell_type": "code",
   "execution_count": 5,
   "id": "08a93d6d-eacf-4547-83e4-50a4a8697878",
   "metadata": {},
   "outputs": [
    {
     "data": {
      "image/png": "[encoded data removed]",
      "text/plain": [
       "<Figure size 432x288 with 1 Axes>"
      ]
     },
     "metadata": {
      "needs_background": "light"
     },
     "output_type": "display_data"
    }
   ],
   "source": [
    "gss_data['age'].hist(bins=25)\n",
    "plt.grid()\n",
    "plt.locator_params(nbins=5)"
   ]
  },
  {
   "cell_type": "code",
   "execution_count": 6,
   "id": "e7e148cb-0ea0-4f86-b319-7adc5916bbce",
   "metadata": {},
   "outputs": [
    {
     "name": "stdout",
     "output_type": "stream",
     "text": [
      "<class 'pandas.core.frame.DataFrame'>\n",
      "Int64Index: 4820 entries, 0 to 4819\n",
      "Columns: 1068 entries, year to enprbfam\n",
      "dtypes: float64(1037), int16(6), int8(25)\n",
      "memory usage: 38.3 MB\n"
     ]
    }
   ],
   "source": [
    "gss_data.info()"
   ]
  },
  {
   "cell_type": "code",
   "execution_count": 7,
   "id": "976b3b9c-dace-47c5-99b1-81e5c2e6e131",
   "metadata": {},
   "outputs": [
    {
     "data": {
      "text/plain": [
       "(4820, 1068)"
      ]
     },
     "execution_count": 7,
     "metadata": {},
     "output_type": "execute_result"
    }
   ],
   "source": [
    "gss_data.shape"
   ]
  },
  {
   "cell_type": "code",
   "execution_count": 8,
   "id": "fc45aa3f-86b0-4ccb-9e5e-f24d7c818866",
   "metadata": {},
   "outputs": [
    {
     "data": {
      "text/html": [
       "<div>\n",
       "<style scoped>\n",
       "    .dataframe tbody tr th:only-of-type {\n",
       "        vertical-align: middle;\n",
       "    }\n",
       "\n",
       "    .dataframe tbody tr th {\n",
       "        vertical-align: top;\n",
       "    }\n",
       "\n",
       "    .dataframe thead th {\n",
       "        text-align: right;\n",
       "    }\n",
       "</style>\n",
       "<table border=\"1\" class=\"dataframe\">\n",
       "  <thead>\n",
       "    <tr style=\"text-align: right;\">\n",
       "      <th></th>\n",
       "      <th>year</th>\n",
       "      <th>wrkstat</th>\n",
       "      <th>hrs1</th>\n",
       "      <th>hrs2</th>\n",
       "      <th>evwork</th>\n",
       "      <th>wrkslf</th>\n",
       "      <th>wrkgovt</th>\n",
       "      <th>occ10</th>\n",
       "      <th>indus10</th>\n",
       "      <th>marital</th>\n",
       "      <th>...</th>\n",
       "      <th>getmar</th>\n",
       "      <th>getmar1</th>\n",
       "      <th>hapornot</th>\n",
       "      <th>grnsign</th>\n",
       "      <th>grnmoney</th>\n",
       "      <th>grndemo</th>\n",
       "      <th>grncon</th>\n",
       "      <th>finan4</th>\n",
       "      <th>enprbus</th>\n",
       "      <th>enprbfam</th>\n",
       "    </tr>\n",
       "  </thead>\n",
       "  <tbody>\n",
       "    <tr>\n",
       "      <th>count</th>\n",
       "      <td>4820.0</td>\n",
       "      <td>4818.000000</td>\n",
       "      <td>2854.000000</td>\n",
       "      <td>94.000000</td>\n",
       "      <td>1691.000000</td>\n",
       "      <td>4685.000000</td>\n",
       "      <td>4603.000000</td>\n",
       "      <td>4622.000000</td>\n",
       "      <td>4628.000000</td>\n",
       "      <td>4818.000000</td>\n",
       "      <td>...</td>\n",
       "      <td>1509.000000</td>\n",
       "      <td>627.000000</td>\n",
       "      <td>1544.000000</td>\n",
       "      <td>493.000000</td>\n",
       "      <td>495.000000</td>\n",
       "      <td>501.000000</td>\n",
       "      <td>489.000000</td>\n",
       "      <td>1290.000000</td>\n",
       "      <td>434.000000</td>\n",
       "      <td>430.000000</td>\n",
       "    </tr>\n",
       "    <tr>\n",
       "      <th>mean</th>\n",
       "      <td>2012.0</td>\n",
       "      <td>3.028435</td>\n",
       "      <td>40.263840</td>\n",
       "      <td>34.446809</td>\n",
       "      <td>1.077469</td>\n",
       "      <td>1.890715</td>\n",
       "      <td>1.800999</td>\n",
       "      <td>4337.644093</td>\n",
       "      <td>6421.533924</td>\n",
       "      <td>2.512038</td>\n",
       "      <td>...</td>\n",
       "      <td>3.477137</td>\n",
       "      <td>25.730463</td>\n",
       "      <td>2.550518</td>\n",
       "      <td>1.764706</td>\n",
       "      <td>1.804040</td>\n",
       "      <td>1.980040</td>\n",
       "      <td>3.740286</td>\n",
       "      <td>1.755039</td>\n",
       "      <td>4.820276</td>\n",
       "      <td>4.881395</td>\n",
       "    </tr>\n",
       "    <tr>\n",
       "      <th>std</th>\n",
       "      <td>0.0</td>\n",
       "      <td>2.324920</td>\n",
       "      <td>15.479284</td>\n",
       "      <td>15.368322</td>\n",
       "      <td>0.267413</td>\n",
       "      <td>0.312030</td>\n",
       "      <td>0.399292</td>\n",
       "      <td>2661.387834</td>\n",
       "      <td>2668.843161</td>\n",
       "      <td>1.658128</td>\n",
       "      <td>...</td>\n",
       "      <td>1.324244</td>\n",
       "      <td>4.108638</td>\n",
       "      <td>0.993844</td>\n",
       "      <td>0.424613</td>\n",
       "      <td>0.397339</td>\n",
       "      <td>0.140003</td>\n",
       "      <td>1.145211</td>\n",
       "      <td>0.430231</td>\n",
       "      <td>2.919229</td>\n",
       "      <td>3.450263</td>\n",
       "    </tr>\n",
       "    <tr>\n",
       "      <th>min</th>\n",
       "      <td>2012.0</td>\n",
       "      <td>1.000000</td>\n",
       "      <td>1.000000</td>\n",
       "      <td>9.000000</td>\n",
       "      <td>1.000000</td>\n",
       "      <td>1.000000</td>\n",
       "      <td>1.000000</td>\n",
       "      <td>10.000000</td>\n",
       "      <td>170.000000</td>\n",
       "      <td>1.000000</td>\n",
       "      <td>...</td>\n",
       "      <td>1.000000</td>\n",
       "      <td>15.000000</td>\n",
       "      <td>1.000000</td>\n",
       "      <td>1.000000</td>\n",
       "      <td>1.000000</td>\n",
       "      <td>1.000000</td>\n",
       "      <td>1.000000</td>\n",
       "      <td>1.000000</td>\n",
       "      <td>1.000000</td>\n",
       "      <td>1.000000</td>\n",
       "    </tr>\n",
       "    <tr>\n",
       "      <th>25%</th>\n",
       "      <td>2012.0</td>\n",
       "      <td>1.000000</td>\n",
       "      <td>35.000000</td>\n",
       "      <td>25.000000</td>\n",
       "      <td>1.000000</td>\n",
       "      <td>2.000000</td>\n",
       "      <td>2.000000</td>\n",
       "      <td>2310.000000</td>\n",
       "      <td>4880.000000</td>\n",
       "      <td>1.000000</td>\n",
       "      <td>...</td>\n",
       "      <td>3.000000</td>\n",
       "      <td>23.000000</td>\n",
       "      <td>2.000000</td>\n",
       "      <td>2.000000</td>\n",
       "      <td>2.000000</td>\n",
       "      <td>2.000000</td>\n",
       "      <td>3.000000</td>\n",
       "      <td>2.000000</td>\n",
       "      <td>2.000000</td>\n",
       "      <td>1.000000</td>\n",
       "    </tr>\n",
       "    <tr>\n",
       "      <th>50%</th>\n",
       "      <td>2012.0</td>\n",
       "      <td>2.000000</td>\n",
       "      <td>40.000000</td>\n",
       "      <td>40.000000</td>\n",
       "      <td>1.000000</td>\n",
       "      <td>2.000000</td>\n",
       "      <td>2.000000</td>\n",
       "      <td>4230.000000</td>\n",
       "      <td>7470.000000</td>\n",
       "      <td>2.000000</td>\n",
       "      <td>...</td>\n",
       "      <td>4.000000</td>\n",
       "      <td>25.000000</td>\n",
       "      <td>2.000000</td>\n",
       "      <td>2.000000</td>\n",
       "      <td>2.000000</td>\n",
       "      <td>2.000000</td>\n",
       "      <td>4.000000</td>\n",
       "      <td>2.000000</td>\n",
       "      <td>4.000000</td>\n",
       "      <td>4.000000</td>\n",
       "    </tr>\n",
       "    <tr>\n",
       "      <th>75%</th>\n",
       "      <td>2012.0</td>\n",
       "      <td>5.000000</td>\n",
       "      <td>50.000000</td>\n",
       "      <td>40.000000</td>\n",
       "      <td>1.000000</td>\n",
       "      <td>2.000000</td>\n",
       "      <td>2.000000</td>\n",
       "      <td>5775.000000</td>\n",
       "      <td>8270.000000</td>\n",
       "      <td>4.000000</td>\n",
       "      <td>...</td>\n",
       "      <td>5.000000</td>\n",
       "      <td>28.000000</td>\n",
       "      <td>3.000000</td>\n",
       "      <td>2.000000</td>\n",
       "      <td>2.000000</td>\n",
       "      <td>2.000000</td>\n",
       "      <td>5.000000</td>\n",
       "      <td>2.000000</td>\n",
       "      <td>7.000000</td>\n",
       "      <td>8.000000</td>\n",
       "    </tr>\n",
       "    <tr>\n",
       "      <th>max</th>\n",
       "      <td>2012.0</td>\n",
       "      <td>8.000000</td>\n",
       "      <td>89.000000</td>\n",
       "      <td>80.000000</td>\n",
       "      <td>2.000000</td>\n",
       "      <td>2.000000</td>\n",
       "      <td>2.000000</td>\n",
       "      <td>9810.000000</td>\n",
       "      <td>9790.000000</td>\n",
       "      <td>5.000000</td>\n",
       "      <td>...</td>\n",
       "      <td>5.000000</td>\n",
       "      <td>60.000000</td>\n",
       "      <td>7.000000</td>\n",
       "      <td>2.000000</td>\n",
       "      <td>2.000000</td>\n",
       "      <td>2.000000</td>\n",
       "      <td>5.000000</td>\n",
       "      <td>2.000000</td>\n",
       "      <td>10.000000</td>\n",
       "      <td>10.000000</td>\n",
       "    </tr>\n",
       "  </tbody>\n",
       "</table>\n",
       "<p>8 rows × 1068 columns</p>\n",
       "</div>"
      ],
      "text/plain": [
       "         year      wrkstat         hrs1       hrs2       evwork       wrkslf  \\\n",
       "count  4820.0  4818.000000  2854.000000  94.000000  1691.000000  4685.000000   \n",
       "mean   2012.0     3.028435    40.263840  34.446809     1.077469     1.890715   \n",
       "std       0.0     2.324920    15.479284  15.368322     0.267413     0.312030   \n",
       "min    2012.0     1.000000     1.000000   9.000000     1.000000     1.000000   \n",
       "25%    2012.0     1.000000    35.000000  25.000000     1.000000     2.000000   \n",
       "50%    2012.0     2.000000    40.000000  40.000000     1.000000     2.000000   \n",
       "75%    2012.0     5.000000    50.000000  40.000000     1.000000     2.000000   \n",
       "max    2012.0     8.000000    89.000000  80.000000     2.000000     2.000000   \n",
       "\n",
       "           wrkgovt        occ10      indus10      marital  ...       getmar  \\\n",
       "count  4603.000000  4622.000000  4628.000000  4818.000000  ...  1509.000000   \n",
       "mean      1.800999  4337.644093  6421.533924     2.512038  ...     3.477137   \n",
       "std       0.399292  2661.387834  2668.843161     1.658128  ...     1.324244   \n",
       "min       1.000000    10.000000   170.000000     1.000000  ...     1.000000   \n",
       "25%       2.000000  2310.000000  4880.000000     1.000000  ...     3.000000   \n",
       "50%       2.000000  4230.000000  7470.000000     2.000000  ...     4.000000   \n",
       "75%       2.000000  5775.000000  8270.000000     4.000000  ...     5.000000   \n",
       "max       2.000000  9810.000000  9790.000000     5.000000  ...     5.000000   \n",
       "\n",
       "          getmar1     hapornot     grnsign    grnmoney     grndemo  \\\n",
       "count  627.000000  1544.000000  493.000000  495.000000  501.000000   \n",
       "mean    25.730463     2.550518    1.764706    1.804040    1.980040   \n",
       "std      4.108638     0.993844    0.424613    0.397339    0.140003   \n",
       "min     15.000000     1.000000    1.000000    1.000000    1.000000   \n",
       "25%     23.000000     2.000000    2.000000    2.000000    2.000000   \n",
       "50%     25.000000     2.000000    2.000000    2.000000    2.000000   \n",
       "75%     28.000000     3.000000    2.000000    2.000000    2.000000   \n",
       "max     60.000000     7.000000    2.000000    2.000000    2.000000   \n",
       "\n",
       "           grncon       finan4     enprbus    enprbfam  \n",
       "count  489.000000  1290.000000  434.000000  430.000000  \n",
       "mean     3.740286     1.755039    4.820276    4.881395  \n",
       "std      1.145211     0.430231    2.919229    3.450263  \n",
       "min      1.000000     1.000000    1.000000    1.000000  \n",
       "25%      3.000000     2.000000    2.000000    1.000000  \n",
       "50%      4.000000     2.000000    4.000000    4.000000  \n",
       "75%      5.000000     2.000000    7.000000    8.000000  \n",
       "max      5.000000     2.000000   10.000000   10.000000  \n",
       "\n",
       "[8 rows x 1068 columns]"
      ]
     },
     "execution_count": 8,
     "metadata": {},
     "output_type": "execute_result"
    }
   ],
   "source": [
    "gss_data.describe()"
   ]
  },
  {
   "cell_type": "markdown",
   "id": "f36da10d-75b3-4eb8-880b-6c4339c0ddb7",
   "metadata": {},
   "source": [
    "### Looking at realrinc col and age as comparing income of the respondant."
   ]
  },
  {
   "cell_type": "code",
   "execution_count": 9,
   "id": "d6998367-b03c-4da8-a27b-33a860353b6b",
   "metadata": {},
   "outputs": [
    {
     "data": {
      "text/html": [
       "<div>\n",
       "<style scoped>\n",
       "    .dataframe tbody tr th:only-of-type {\n",
       "        vertical-align: middle;\n",
       "    }\n",
       "\n",
       "    .dataframe tbody tr th {\n",
       "        vertical-align: top;\n",
       "    }\n",
       "\n",
       "    .dataframe thead th {\n",
       "        text-align: right;\n",
       "    }\n",
       "</style>\n",
       "<table border=\"1\" class=\"dataframe\">\n",
       "  <thead>\n",
       "    <tr style=\"text-align: right;\">\n",
       "      <th></th>\n",
       "      <th>realrinc</th>\n",
       "      <th>age</th>\n",
       "    </tr>\n",
       "  </thead>\n",
       "  <tbody>\n",
       "    <tr>\n",
       "      <th>0</th>\n",
       "      <td>NaN</td>\n",
       "      <td>22.0</td>\n",
       "    </tr>\n",
       "    <tr>\n",
       "      <th>1</th>\n",
       "      <td>NaN</td>\n",
       "      <td>21.0</td>\n",
       "    </tr>\n",
       "    <tr>\n",
       "      <th>2</th>\n",
       "      <td>58800.0</td>\n",
       "      <td>42.0</td>\n",
       "    </tr>\n",
       "    <tr>\n",
       "      <th>3</th>\n",
       "      <td>NaN</td>\n",
       "      <td>49.0</td>\n",
       "    </tr>\n",
       "    <tr>\n",
       "      <th>4</th>\n",
       "      <td>NaN</td>\n",
       "      <td>70.0</td>\n",
       "    </tr>\n",
       "    <tr>\n",
       "      <th>5</th>\n",
       "      <td>NaN</td>\n",
       "      <td>50.0</td>\n",
       "    </tr>\n",
       "    <tr>\n",
       "      <th>6</th>\n",
       "      <td>NaN</td>\n",
       "      <td>35.0</td>\n",
       "    </tr>\n",
       "    <tr>\n",
       "      <th>7</th>\n",
       "      <td>NaN</td>\n",
       "      <td>24.0</td>\n",
       "    </tr>\n",
       "    <tr>\n",
       "      <th>8</th>\n",
       "      <td>NaN</td>\n",
       "      <td>28.0</td>\n",
       "    </tr>\n",
       "    <tr>\n",
       "      <th>9</th>\n",
       "      <td>15925.0</td>\n",
       "      <td>28.0</td>\n",
       "    </tr>\n",
       "  </tbody>\n",
       "</table>\n",
       "</div>"
      ],
      "text/plain": [
       "   realrinc   age\n",
       "0       NaN  22.0\n",
       "1       NaN  21.0\n",
       "2   58800.0  42.0\n",
       "3       NaN  49.0\n",
       "4       NaN  70.0\n",
       "5       NaN  50.0\n",
       "6       NaN  35.0\n",
       "7       NaN  24.0\n",
       "8       NaN  28.0\n",
       "9   15925.0  28.0"
      ]
     },
     "execution_count": 9,
     "metadata": {},
     "output_type": "execute_result"
    }
   ],
   "source": [
    "inc_age = gss_data[['realrinc','age']]\n",
    "\n",
    "inc_age.head(10)"
   ]
  },
  {
   "cell_type": "code",
   "execution_count": 10,
   "id": "657e6f98-7a74-49b3-b1c7-acbe5de4571d",
   "metadata": {},
   "outputs": [
    {
     "data": {
      "text/html": [
       "<div>\n",
       "<style scoped>\n",
       "    .dataframe tbody tr th:only-of-type {\n",
       "        vertical-align: middle;\n",
       "    }\n",
       "\n",
       "    .dataframe tbody tr th {\n",
       "        vertical-align: top;\n",
       "    }\n",
       "\n",
       "    .dataframe thead th {\n",
       "        text-align: right;\n",
       "    }\n",
       "</style>\n",
       "<table border=\"1\" class=\"dataframe\">\n",
       "  <thead>\n",
       "    <tr style=\"text-align: right;\">\n",
       "      <th></th>\n",
       "      <th>realrinc</th>\n",
       "      <th>age</th>\n",
       "    </tr>\n",
       "  </thead>\n",
       "  <tbody>\n",
       "    <tr>\n",
       "      <th>2</th>\n",
       "      <td>58800.0</td>\n",
       "      <td>42.0</td>\n",
       "    </tr>\n",
       "    <tr>\n",
       "      <th>9</th>\n",
       "      <td>15925.0</td>\n",
       "      <td>28.0</td>\n",
       "    </tr>\n",
       "    <tr>\n",
       "      <th>11</th>\n",
       "      <td>3185.0</td>\n",
       "      <td>36.0</td>\n",
       "    </tr>\n",
       "    <tr>\n",
       "      <th>14</th>\n",
       "      <td>7962.5</td>\n",
       "      <td>52.0</td>\n",
       "    </tr>\n",
       "    <tr>\n",
       "      <th>15</th>\n",
       "      <td>26950.0</td>\n",
       "      <td>35.0</td>\n",
       "    </tr>\n",
       "    <tr>\n",
       "      <th>16</th>\n",
       "      <td>26950.0</td>\n",
       "      <td>36.0</td>\n",
       "    </tr>\n",
       "    <tr>\n",
       "      <th>17</th>\n",
       "      <td>22050.0</td>\n",
       "      <td>47.0</td>\n",
       "    </tr>\n",
       "    <tr>\n",
       "      <th>18</th>\n",
       "      <td>33075.0</td>\n",
       "      <td>55.0</td>\n",
       "    </tr>\n",
       "    <tr>\n",
       "      <th>22</th>\n",
       "      <td>33075.0</td>\n",
       "      <td>54.0</td>\n",
       "    </tr>\n",
       "    <tr>\n",
       "      <th>23</th>\n",
       "      <td>49000.0</td>\n",
       "      <td>45.0</td>\n",
       "    </tr>\n",
       "  </tbody>\n",
       "</table>\n",
       "</div>"
      ],
      "text/plain": [
       "    realrinc   age\n",
       "2    58800.0  42.0\n",
       "9    15925.0  28.0\n",
       "11    3185.0  36.0\n",
       "14    7962.5  52.0\n",
       "15   26950.0  35.0\n",
       "16   26950.0  36.0\n",
       "17   22050.0  47.0\n",
       "18   33075.0  55.0\n",
       "22   33075.0  54.0\n",
       "23   49000.0  45.0"
      ]
     },
     "execution_count": 10,
     "metadata": {},
     "output_type": "execute_result"
    }
   ],
   "source": [
    "inc_age = gss_data[['realrinc', 'age']].dropna()\n",
    "\n",
    "inc_age.head(10)"
   ]
  },
  {
   "cell_type": "code",
   "execution_count": 11,
   "id": "95a40b14-a623-4ae9-8e59-c6442ba1fef3",
   "metadata": {},
   "outputs": [
    {
     "data": {
      "image/png": "[encoded data removed]",
      "text/plain": [
       "<Figure size 576x216 with 2 Axes>"
      ]
     },
     "metadata": {
      "needs_background": "light"
     },
     "output_type": "display_data"
    }
   ],
   "source": [
    "ax_list = inc_age.hist(bins=40, figsize=(8,3), xrot=45)\n",
    "\n",
    "for ax in ax_list[0]:\n",
    "    ax.locator_params(axis='x', nbins=6)\n",
    "    ax.locator_params(axis='y', nbins=3)\n",
    "    "
   ]
  },
  {
   "cell_type": "markdown",
   "id": "85904fa6-94a4-4ef4-a8dc-321ef23a0e6a",
   "metadata": {},
   "source": [
    "### there is a large gap with an isolated bar in the region above 300,000 dollars. count how many values are in this region"
   ]
  },
  {
   "cell_type": "code",
   "execution_count": 12,
   "id": "d78cea56-b303-45d3-a71c-801f8f1821ba",
   "metadata": {},
   "outputs": [
    {
     "data": {
      "text/plain": [
       "realrinc    80\n",
       "age         80\n",
       "dtype: int64"
      ]
     },
     "execution_count": 12,
     "metadata": {},
     "output_type": "execute_result"
    }
   ],
   "source": [
    "inc_age[inc_age['realrinc'] > 3.0E5].count()"
   ]
  },
  {
   "cell_type": "code",
   "execution_count": 13,
   "id": "0fe79281-9554-4358-b77e-c58d7874d6e2",
   "metadata": {},
   "outputs": [
    {
     "data": {
      "text/html": [
       "<div>\n",
       "<style scoped>\n",
       "    .dataframe tbody tr th:only-of-type {\n",
       "        vertical-align: middle;\n",
       "    }\n",
       "\n",
       "    .dataframe tbody tr th {\n",
       "        vertical-align: top;\n",
       "    }\n",
       "\n",
       "    .dataframe thead th {\n",
       "        text-align: right;\n",
       "    }\n",
       "</style>\n",
       "<table border=\"1\" class=\"dataframe\">\n",
       "  <thead>\n",
       "    <tr style=\"text-align: right;\">\n",
       "      <th></th>\n",
       "      <th>realrinc</th>\n",
       "      <th>age</th>\n",
       "    </tr>\n",
       "  </thead>\n",
       "  <tbody>\n",
       "    <tr>\n",
       "      <th>42</th>\n",
       "      <td>341672.3793</td>\n",
       "      <td>51.0</td>\n",
       "    </tr>\n",
       "    <tr>\n",
       "      <th>43</th>\n",
       "      <td>341672.3793</td>\n",
       "      <td>57.0</td>\n",
       "    </tr>\n",
       "    <tr>\n",
       "      <th>44</th>\n",
       "      <td>341672.3793</td>\n",
       "      <td>44.0</td>\n",
       "    </tr>\n",
       "    <tr>\n",
       "      <th>47</th>\n",
       "      <td>341672.3793</td>\n",
       "      <td>68.0</td>\n",
       "    </tr>\n",
       "    <tr>\n",
       "      <th>54</th>\n",
       "      <td>341672.3793</td>\n",
       "      <td>46.0</td>\n",
       "    </tr>\n",
       "    <tr>\n",
       "      <th>126</th>\n",
       "      <td>341672.3793</td>\n",
       "      <td>53.0</td>\n",
       "    </tr>\n",
       "    <tr>\n",
       "      <th>241</th>\n",
       "      <td>341672.3793</td>\n",
       "      <td>61.0</td>\n",
       "    </tr>\n",
       "    <tr>\n",
       "      <th>261</th>\n",
       "      <td>341672.3793</td>\n",
       "      <td>55.0</td>\n",
       "    </tr>\n",
       "    <tr>\n",
       "      <th>263</th>\n",
       "      <td>341672.3793</td>\n",
       "      <td>43.0</td>\n",
       "    </tr>\n",
       "    <tr>\n",
       "      <th>401</th>\n",
       "      <td>341672.3793</td>\n",
       "      <td>37.0</td>\n",
       "    </tr>\n",
       "  </tbody>\n",
       "</table>\n",
       "</div>"
      ],
      "text/plain": [
       "        realrinc   age\n",
       "42   341672.3793  51.0\n",
       "43   341672.3793  57.0\n",
       "44   341672.3793  44.0\n",
       "47   341672.3793  68.0\n",
       "54   341672.3793  46.0\n",
       "126  341672.3793  53.0\n",
       "241  341672.3793  61.0\n",
       "261  341672.3793  55.0\n",
       "263  341672.3793  43.0\n",
       "401  341672.3793  37.0"
      ]
     },
     "execution_count": 13,
     "metadata": {},
     "output_type": "execute_result"
    }
   ],
   "source": [
    "inc_age[inc_age['realrinc'] > 3.0E5].head(10)"
   ]
  },
  {
   "cell_type": "code",
   "execution_count": 14,
   "id": "00c5b5e0-5936-4393-ab69-70cf10877b24",
   "metadata": {},
   "outputs": [
    {
     "data": {
      "image/png": "[encoded data removed]",
      "text/plain": [
       "<Figure size 864x432 with 2 Axes>"
      ]
     },
     "metadata": {
      "needs_background": "light"
     },
     "output_type": "display_data"
    }
   ],
   "source": [
    "inc_age = gss_data[['realrinc', 'age']].dropna()\n",
    "lowinc_age = inc_age[inc_age['realrinc'] < 3.0E5]\n",
    "\n",
    "ax_list = lowinc_age.hist(bins=20, figsize=(12,6), xrot=45)\n",
    "\n",
    "for ax in ax_list[0]:\n",
    "    ax.grid()\n",
    "    ax.locator_params(axis='x' ,nbins=6)\n",
    "    ax.locator_params(axis='y' ,nbins=3)"
   ]
  },
  {
   "cell_type": "code",
   "execution_count": 15,
   "id": "1dada002-1c73-4521-809a-86bc15ec2370",
   "metadata": {},
   "outputs": [
    {
     "data": {
      "image/png": "[encoded data removed]",
      "text/plain": [
       "<Figure size 864x432 with 2 Axes>"
      ]
     },
     "metadata": {
      "needs_background": "light"
     },
     "output_type": "display_data"
    }
   ],
   "source": [
    "ax_list = lowinc_age.hist(bins=20, figsize=(12,6), xrot=45, color='SteelBlue')\n",
    "ax1, ax2 = ax_list[0]\n",
    "ax1.set_title('Real Income ($)')\n",
    "ax2.set_title('Age (years)')\n",
    "for ax in ax_list[0]:\n",
    "    ax.grid()\n",
    "    ax.locator_params(axis='x' ,nbins=6)\n",
    "    ax.locator_params(axis='y' ,nbins=4)"
   ]
  },
  {
   "cell_type": "markdown",
   "id": "54c5a639-c9ff-4f01-a26f-95977f04bb66",
   "metadata": {},
   "source": [
    "### Plotting a KDE plot as to approximate the density of distribution in age col"
   ]
  },
  {
   "cell_type": "code",
   "execution_count": 16,
   "id": "be7d8d53-7a27-4441-a41c-c61f64cbaee6",
   "metadata": {},
   "outputs": [
    {
     "data": {
      "text/plain": [
       "Text(0.5, 0, 'Age (years)')"
      ]
     },
     "execution_count": 16,
     "metadata": {},
     "output_type": "execute_result"
    },
    {
     "data": {
      "image/png": "[encoded data removed]",
      "text/plain": [
       "<Figure size 432x288 with 1 Axes>"
      ]
     },
     "metadata": {
      "needs_background": "light"
     },
     "output_type": "display_data"
    }
   ],
   "source": [
    "age = gss_data['age'].dropna()\n",
    "age.plot(kind='kde',lw=2,color='green')\n",
    "plt.title('KDE plot for age col')\n",
    "plt.xlabel('Age (years)')"
   ]
  },
  {
   "cell_type": "code",
   "execution_count": 17,
   "id": "ed9f689b-f783-49d8-ada9-fa858eff6d88",
   "metadata": {},
   "outputs": [
    {
     "data": {
      "text/plain": [
       "Text(0.5, 0, 'Age (years)')"
      ]
     },
     "execution_count": 17,
     "metadata": {},
     "output_type": "execute_result"
    },
    {
     "data": {
      "image/png": "[encoded data removed]",
      "text/plain": [
       "<Figure size 432x288 with 1 Axes>"
      ]
     },
     "metadata": {
      "needs_background": "light"
     },
     "output_type": "display_data"
    }
   ],
   "source": [
    "ax = age.hist(bins=30, color='LightSteelBlue', density=True, stacked=True)\n",
    "age.plot(kind='kde', lw=2, color='Green', ax=ax)\n",
    "plt.title('Histogram and KDE for Age')\n",
    "plt.xlabel('Age (years)')"
   ]
  },
  {
   "cell_type": "markdown",
   "id": "2fbe4452-85d6-4e82-9e70-0b4d8d621a2b",
   "metadata": {},
   "source": [
    "### Above plot seems to drop quickly to zero at tails"
   ]
  },
  {
   "cell_type": "markdown",
   "id": "a89234c0-9265-4efe-bb78-1c2d88fa52a0",
   "metadata": {},
   "source": [
    "### Data deviating from normal distribution, using normal distribution plot :"
   ]
  },
  {
   "cell_type": "code",
   "execution_count": 18,
   "id": "b05cea8d-6914-4bbb-95dc-ac2b5e2dc8b0",
   "metadata": {},
   "outputs": [
    {
     "data": {
      "text/plain": [
       "((array([-3.62347833, -3.38741543, -3.25727154, ...,  3.25727154,\n",
       "          3.38741543,  3.62347833]),\n",
       "  array([18., 18., 18., ..., 89., 89., 89.])),\n",
       " (16.99498585504629, 49.59467393583561, 0.9882188072238013))"
      ]
     },
     "execution_count": 18,
     "metadata": {},
     "output_type": "execute_result"
    },
    {
     "data": {
      "image/png": "[encoded data removed]",
      "text/plain": [
       "<Figure size 432x288 with 1 Axes>"
      ]
     },
     "metadata": {
      "needs_background": "light"
     },
     "output_type": "display_data"
    }
   ],
   "source": [
    "import scipy.stats as stats\n",
    "\n",
    "stats.probplot(age, dist='norm' , plot=plt)"
   ]
  },
  {
   "cell_type": "markdown",
   "id": "08d04415-3fba-418c-b5c5-25c06eae93a7",
   "metadata": {},
   "source": [
    "### The age data presented here is consistent with data that has tails that are shorter than those of a normal distribution, which is consistent with our earlier observations. Thus a normal distribution would not be adequate for this data."
   ]
  },
  {
   "cell_type": "markdown",
   "id": "791fd735-7b18-4192-a188-10e9e999103f",
   "metadata": {},
   "source": [
    "## Numerical description of data"
   ]
  },
  {
   "cell_type": "code",
   "execution_count": 19,
   "id": "d8ebc3a9-7e50-44c1-aa79-7da107aa1f3e",
   "metadata": {},
   "outputs": [
    {
     "data": {
      "text/plain": [
       "count     2751.000000\n",
       "mean     18582.194656\n",
       "std      14841.581333\n",
       "min        245.000000\n",
       "25%       6737.500000\n",
       "50%      15925.000000\n",
       "75%      26950.000000\n",
       "max      68600.000000\n",
       "Name: realrinc, dtype: float64"
      ]
     },
     "execution_count": 19,
     "metadata": {},
     "output_type": "execute_result"
    }
   ],
   "source": [
    "inc = gss_data['realrinc'].dropna()\n",
    "lowinc = inc[inc < 3.0E5]\n",
    "lowinc.describe()"
   ]
  },
  {
   "cell_type": "markdown",
   "id": "e088366e-9715-4cc5-bb17-d9293ebc5299",
   "metadata": {},
   "source": [
    "### Point estimates:- there are 2,751 people that reported incomes less than 300,000 dollars in the survey, the average income of respondents is approximately 18,582 dollars , income goes from the lowest value of 245 dollars to the highest value of 68,600 dollars , half of the reported incomes are below 15,925 dollars and half are above this value\n",
    "\n",
    "### Interval estimates:- 25% of the incomes are below 6,737 dollars , 25% of the incomes are between 6,737 dollars and 15,925 dollars , 25% of the incomes are between 15,925 dollars and 26,950 dollars , 25% of the incomes are between 26,950 dollars and 15,925 dollars"
   ]
  },
  {
   "cell_type": "markdown",
   "id": "c5ec6faf-bb6b-4780-9282-89e1ad22d249",
   "metadata": {},
   "source": [
    "### detailed view of the distribution:-"
   ]
  },
  {
   "cell_type": "code",
   "execution_count": 20,
   "id": "098c537d-7290-461c-91df-7da0b74ab18e",
   "metadata": {},
   "outputs": [
    {
     "data": {
      "text/plain": [
       "count     2751.000000\n",
       "mean     18582.194656\n",
       "std      14841.581333\n",
       "min        245.000000\n",
       "0%         245.000000\n",
       "10%       2695.000000\n",
       "20%       5512.500000\n",
       "30%       9187.500000\n",
       "40%      11637.500000\n",
       "50%      15925.000000\n",
       "60%      18375.000000\n",
       "70%      22050.000000\n",
       "80%      26950.000000\n",
       "90%      40425.000000\n",
       "max      68600.000000\n",
       "Name: realrinc, dtype: float64"
      ]
     },
     "execution_count": 20,
     "metadata": {},
     "output_type": "execute_result"
    }
   ],
   "source": [
    "lowinc.describe(percentiles=np.arange(0, 1.0, 0.1))"
   ]
  },
  {
   "cell_type": "code",
   "execution_count": 21,
   "id": "daa3d97c-3461-4b87-aa38-3bfe8d6da2d5",
   "metadata": {},
   "outputs": [
    {
     "data": {
      "image/png": "[encoded data removed]",
      "text/plain": [
       "<Figure size 432x288 with 1 Axes>"
      ]
     },
     "metadata": {
      "needs_background": "light"
     },
     "output_type": "display_data"
    }
   ],
   "source": [
    "lowinc.plot(kind='box')\n",
    "plt.locator_params(nbins=5)"
   ]
  },
  {
   "cell_type": "markdown",
   "id": "2cb40640-589f-47b9-a14c-b1063dc652ab",
   "metadata": {},
   "source": [
    "### The asymmetry of the data is evident with the boxplot above being skewed toward high values."
   ]
  },
  {
   "cell_type": "code",
   "execution_count": null,
   "id": "d8087981-da93-4440-add7-ae794afebbc1",
   "metadata": {},
   "outputs": [],
   "source": []
  },
  {
   "cell_type": "markdown",
   "id": "a637576e-d517-447e-ba64-079efddf227d",
   "metadata": {},
   "source": [
    "###  Comparing the incomes of males and females"
   ]
  },
  {
   "cell_type": "code",
   "execution_count": 22,
   "id": "3f40a989-665c-4335-a98c-99147a5ac6be",
   "metadata": {},
   "outputs": [
    {
     "data": {
      "image/png": "[encoded data removed]",
      "text/plain": [
       "<Figure size 432x288 with 1 Axes>"
      ]
     },
     "metadata": {
      "needs_background": "light"
     },
     "output_type": "display_data"
    }
   ],
   "source": [
    "inc_gen = gss_data[['realrinc','sex']]\n",
    "inc_gen = inc_gen[inc_gen['realrinc'] < 3.0E5]\n",
    "inc_gen.boxplot(column='realrinc', by='sex')\n",
    "plt.title('')\n",
    "plt.locator_params(nbins=5)"
   ]
  },
  {
   "cell_type": "markdown",
   "id": "a79576ee-8312-479a-bad0-4d83e8ed95de",
   "metadata": {},
   "source": [
    "### The incomes for males (1) are more spread than the values for females (2), with the incomes for males being markedly above the female incomes. The upper level of the distribution tells a similar story. The portion of the boxplot above the upper quartile is much longer for the male distribution than that of the female distribution. Notice, in particular, the outliers in the female distribution. There definitely seems to be a glass ceiling effect, with very few women being able to command the top salaries that men achieve.\n"
   ]
  },
  {
   "cell_type": "markdown",
   "id": "172a3dfa-eca5-4570-9224-21711d43fd55",
   "metadata": {},
   "source": [
    "### The top quartile of the female's distribution is just a little above the median male income. That is, almost 75% of the females have an income corresponding to the bottom half of male incomes."
   ]
  },
  {
   "cell_type": "code",
   "execution_count": null,
   "id": "c145f120-6b1d-44c9-96ed-0558ae149c7e",
   "metadata": {},
   "outputs": [],
   "source": []
  },
  {
   "cell_type": "code",
   "execution_count": null,
   "id": "4625683e-ad9a-424b-89df-dee9ae615dc8",
   "metadata": {},
   "outputs": [],
   "source": []
  },
  {
   "cell_type": "code",
   "execution_count": null,
   "id": "5ee75fb2-eabe-41bc-951b-db5782015409",
   "metadata": {},
   "outputs": [],
   "source": []
  }
 ],
 "metadata": {
  "kernelspec": {
   "display_name": "Python 3 (ipykernel)",
   "language": "python",
   "name": "python3"
  },
  "language_info": {
   "codemirror_mode": {
    "name": "ipython",
    "version": 3
   },
   "file_extension": ".py",
   "mimetype": "text/x-python",
   "name": "python",
   "nbconvert_exporter": "python",
   "pygments_lexer": "ipython3",
   "version": "3.9.7"
  }
 },
 "nbformat": 4,
 "nbformat_minor": 5
}
